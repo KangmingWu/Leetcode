{
 "cells": [
  {
   "cell_type": "code",
   "execution_count": 19,
   "metadata": {},
   "outputs": [],
   "source": [
    "class Solution:\n",
    "    def maximalRectangle(self, matrix):\n",
    "        \"\"\"\n",
    "        :type matrix: List[List[str]]\n",
    "        :rtype: int\n",
    "        \"\"\"\n",
    "        ans = 0\n",
    "        blocks = set() # [min_x, max_x, min_y, max_y]\n",
    "        for i in range(len(matrix)):\n",
    "            for j in range(len(matrix[0])):\n",
    "                if matrix[i][j]!='1': continue\n",
    "                if any([block[0]<=j and block[1]>=j and block[2]<=i and block[3]>=i for block in blocks]):\n",
    "                    continue\n",
    "                    \n",
    "                edge_len = 0\n",
    "                while (all([matrix[i+edge_len][j+k]=='1' for k in range(edge_len+1)])\n",
    "                      and all([matrix[i+l][j+edge_len]=='1' for l in range(edge_len+1)])\n",
    "                      and i+edge_len+1<len(matrix)\n",
    "                      and j+edge_len+1<len(matrix[0])): edge_len+=1\n",
    "                blocks.add((j,j+edge_len-1,i,i+edge_len-1))\n",
    "                ans = max(ans,edge_len**2)\n",
    "        print(ans)\n",
    "        return ans"
   ]
  },
  {
   "cell_type": "code",
   "execution_count": 28,
   "metadata": {},
   "outputs": [],
   "source": [
    "class Solution:\n",
    "    def maximalRectangle(self, matrix):\n",
    "        \"\"\"\n",
    "        :type matrix: List[List[str]]\n",
    "        :rtype: int\n",
    "        \"\"\"\n",
    "        if not matrix: return 0\n",
    "        ans = 0\n",
    "        checked = [[False for i in range(len(matrix[0]))] for j in range(len(matrix))]\n",
    "        for i in range(len(matrix)):\n",
    "            for j in range(len(matrix[0])):\n",
    "                if checked[i][j]: continue\n",
    "                \n",
    "                    \n",
    "        print(checked)\n",
    "        return 0"
   ]
  },
  {
   "cell_type": "code",
   "execution_count": 29,
   "metadata": {},
   "outputs": [
    {
     "name": "stdout",
     "output_type": "stream",
     "text": [
      "[[False, False, False, False, False], [False, False, False, False, False], [False, False, False, False, False], [False, False, False, False, False]]\n"
     ]
    },
    {
     "ename": "AssertionError",
     "evalue": "",
     "output_type": "error",
     "traceback": [
      "\u001b[0;31m---------------------------------------------------------------------------\u001b[0m",
      "\u001b[0;31mAssertionError\u001b[0m                            Traceback (most recent call last)",
      "\u001b[0;32m<ipython-input-29-94dcee02f631>\u001b[0m in \u001b[0;36m<module>\u001b[0;34m\u001b[0m\n\u001b[1;32m      5\u001b[0m     \u001b[0;34m[\u001b[0m\u001b[0;34m\"1\"\u001b[0m\u001b[0;34m,\u001b[0m\u001b[0;34m\"0\"\u001b[0m\u001b[0;34m,\u001b[0m\u001b[0;34m\"1\"\u001b[0m\u001b[0;34m,\u001b[0m\u001b[0;34m\"1\"\u001b[0m\u001b[0;34m,\u001b[0m\u001b[0;34m\"1\"\u001b[0m\u001b[0;34m]\u001b[0m\u001b[0;34m,\u001b[0m\u001b[0;34m\u001b[0m\u001b[0;34m\u001b[0m\u001b[0m\n\u001b[1;32m      6\u001b[0m     \u001b[0;34m[\u001b[0m\u001b[0;34m\"1\"\u001b[0m\u001b[0;34m,\u001b[0m\u001b[0;34m\"1\"\u001b[0m\u001b[0;34m,\u001b[0m\u001b[0;34m\"1\"\u001b[0m\u001b[0;34m,\u001b[0m\u001b[0;34m\"1\"\u001b[0m\u001b[0;34m,\u001b[0m\u001b[0;34m\"1\"\u001b[0m\u001b[0;34m]\u001b[0m\u001b[0;34m,\u001b[0m\u001b[0;34m\u001b[0m\u001b[0;34m\u001b[0m\u001b[0m\n\u001b[0;32m----> 7\u001b[0;31m     [\"1\",\"0\",\"0\",\"1\",\"0\"]]) == 6\n\u001b[0m",
      "\u001b[0;31mAssertionError\u001b[0m: "
     ]
    }
   ],
   "source": [
    "test = Solution()\n",
    "assert test.maximalRectangle([])==0\n",
    "assert test.maximalRectangle([\n",
    "    [\"1\",\"0\",\"1\",\"0\",\"0\"],\n",
    "    [\"1\",\"0\",\"1\",\"1\",\"1\"],\n",
    "    [\"1\",\"1\",\"1\",\"1\",\"1\"],\n",
    "    [\"1\",\"0\",\"0\",\"1\",\"0\"]]) == 6\n",
    "assert test.maximalRectangle([\n",
    "    [\"1\",\"1\",\"1\",\"1\",\"1\"],\n",
    "    [\"1\",\"1\",\"1\",\"1\",\"0\"],\n",
    "    [\"1\",\"1\",\"1\",\"0\",\"0\"],\n",
    "    [\"1\",\"1\",\"0\",\"0\",\"0\"],\n",
    "    [\"1\",\"0\",\"0\",\"1\",\"0\"]]) == 9\n",
    "assert test.maximalRectangle([\n",
    "    [\"0\",\"1\",\"1\",\"1\",\"1\"],\n",
    "    [\"1\",\"1\",\"1\",\"1\",\"0\"],\n",
    "    [\"1\",\"1\",\"1\",\"0\",\"0\"],\n",
    "    [\"1\",\"1\",\"0\",\"0\",\"0\"],\n",
    "    [\"1\",\"0\",\"0\",\"1\",\"0\"]]) == 6"
   ]
  },
  {
   "cell_type": "code",
   "execution_count": null,
   "metadata": {},
   "outputs": [],
   "source": []
  }
 ],
 "metadata": {
  "kernelspec": {
   "display_name": "Python 3",
   "language": "python",
   "name": "python3"
  },
  "language_info": {
   "codemirror_mode": {
    "name": "ipython",
    "version": 3
   },
   "file_extension": ".py",
   "mimetype": "text/x-python",
   "name": "python",
   "nbconvert_exporter": "python",
   "pygments_lexer": "ipython3",
   "version": "3.7.3"
  }
 },
 "nbformat": 4,
 "nbformat_minor": 2
}
