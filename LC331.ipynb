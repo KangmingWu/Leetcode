{
 "cells": [
  {
   "cell_type": "code",
   "execution_count": 1,
   "metadata": {},
   "outputs": [],
   "source": [
    "class Solution(object):\n",
    "    def isValidSerialization(self, preorder):\n",
    "        \"\"\"\n",
    "        :type preorder: str\n",
    "        :rtype: bool\n",
    "        \"\"\"\n",
    "        if preorder == '': return False\n",
    "        preorder = preorder.split(',')\n",
    "        slot_num = 1\n",
    "        for node in preorder:\n",
    "            if slot_num==0: return False\n",
    "            if node == '#':\n",
    "                slot_num -= 1\n",
    "            else:\n",
    "                slot_num += 1\n",
    "        return slot_num==0"
   ]
  },
  {
   "cell_type": "code",
   "execution_count": 2,
   "metadata": {},
   "outputs": [],
   "source": [
    "test = Solution()"
   ]
  },
  {
   "cell_type": "code",
   "execution_count": 3,
   "metadata": {},
   "outputs": [],
   "source": [
    "assert test.isValidSerialization(\"9,3,4,#,#,1,#,#,2,#,6,#,#\")==True\n",
    "assert test.isValidSerialization(\"1,#\")==False\n",
    "assert test.isValidSerialization(\"9,#,#,1\")==False"
   ]
  }
 ],
 "metadata": {
  "kernelspec": {
   "display_name": "Python 3",
   "language": "python",
   "name": "python3"
  },
  "language_info": {
   "codemirror_mode": {
    "name": "ipython",
    "version": 3
   },
   "file_extension": ".py",
   "mimetype": "text/x-python",
   "name": "python",
   "nbconvert_exporter": "python",
   "pygments_lexer": "ipython3",
   "version": "3.7.3"
  }
 },
 "nbformat": 4,
 "nbformat_minor": 4
}
