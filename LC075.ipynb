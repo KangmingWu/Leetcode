{
  "cells": [
    {
      "cell_type": "code",
      "execution_count": 1,
      "metadata": {
        "pycharm": {}
      },
      "outputs": [],
      "source": [
        "def sortColors(nums):\n",
        "    nums.sort()\n",
        "    return"
      ]
    },
    {
      "cell_type": "code",
      "execution_count": 18,
      "metadata": {
        "pycharm": {}
      },
      "outputs": [],
      "source": [
        "def sortColors(nums):\n",
        "    l \u003d len(nums)\n",
        "    \n",
        "    zero_index \u003d 0\n",
        "    while(zero_index\u003cl and nums[zero_index]\u003d\u003d0): zero_index+\u003d1\n",
        "    if zero_index\u003d\u003dl: return\n",
        "    \n",
        "    two_index \u003d l-1\n",
        "    while(two_index\u003e\u003d0 and nums[two_index]\u003d\u003d2): two_index-\u003d1\n",
        "    if two_index\u003d\u003d-1: return\n",
        "    print(zero_index, two_index)\n",
        "    \n",
        "    i\u003dzero_index\n",
        "    while(i\u003c\u003dtwo_index):\n",
        "        if nums[i]\u003d\u003d0:\n",
        "            nums[i],nums[zero_index] \u003d nums[zero_index], nums[i]\n",
        "            zero_index +\u003d1\n",
        "        i+\u003d1\n",
        "    \n",
        "    i\u003dtwo_index\n",
        "    while(i\u003e\u003dzero_index):\n",
        "        if nums[i]\u003d\u003d2:\n",
        "            nums[i],nums[two_index] \u003d nums[two_index], nums[i]\n",
        "            two_index-\u003d1\n",
        "        i-\u003d1\n",
        "    print(nums)"
      ]
    },
    {
      "cell_type": "code",
      "execution_count": 19,
      "metadata": {
        "pycharm": {}
      },
      "outputs": [
        {
          "name": "stdout",
          "output_type": "stream",
          "text": [
            "0 5\n",
            "[0, 0, 1, 1, 2, 2]\n"
          ]
        }
      ],
      "source": [
        "sortColors([2,0,2,1,1,0])"
      ]
    },
    {
      "cell_type": "code",
      "execution_count": 20,
      "metadata": {
        "pycharm": {}
      },
      "outputs": [],
      "source": [
        "sortColors([])"
      ]
    },
    {
      "cell_type": "code",
      "execution_count": 21,
      "metadata": {
        "pycharm": {}
      },
      "outputs": [
        {
          "name": "stdout",
          "output_type": "stream",
          "text": [
            "0 0\n",
            "[1]\n"
          ]
        }
      ],
      "source": [
        "sortColors([1])"
      ]
    },
    {
      "cell_type": "code",
      "execution_count": 22,
      "metadata": {
        "pycharm": {}
      },
      "outputs": [
        {
          "name": "stdout",
          "output_type": "stream",
          "text": [
            "0 5\n",
            "[0, 0, 1, 1, 2, 2]\n"
          ]
        }
      ],
      "source": [
        "sortColors([2,2,0,0,1,1])"
      ]
    },
    {
      "cell_type": "code",
      "execution_count": 23,
      "metadata": {
        "pycharm": {}
      },
      "outputs": [],
      "source": [
        "sortColors([0,0,0])"
      ]
    },
    {
      "cell_type": "code",
      "execution_count": 24,
      "metadata": {
        "pycharm": {}
      },
      "outputs": [
        {
          "name": "stdout",
          "output_type": "stream",
          "text": [
            "0 2\n",
            "[1, 1, 1]\n"
          ]
        }
      ],
      "source": [
        "sortColors([1,1,1])"
      ]
    },
    {
      "cell_type": "code",
      "execution_count": 2,
      "metadata": {
        "pycharm": {
          "is_executing": false
        }
      },
      "outputs": [
        {
          "data": {
            "text/plain": "True"
          },
          "metadata": {},
          "output_type": "execute_result",
          "execution_count": 2
        }
      ],
      "source": ""
    }
  ],
  "metadata": {
    "kernelspec": {
      "display_name": "Python 3",
      "language": "python",
      "name": "python3"
    },
    "language_info": {
      "codemirror_mode": {
        "name": "ipython",
        "version": 3
      },
      "file_extension": ".py",
      "mimetype": "text/x-python",
      "name": "python",
      "nbconvert_exporter": "python",
      "pygments_lexer": "ipython3",
      "version": "3.6.6"
    }
  },
  "nbformat": 4,
  "nbformat_minor": 2
}