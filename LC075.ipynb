{
 "cells": [
  {
   "cell_type": "code",
   "execution_count": 1,
   "metadata": {},
   "outputs": [],
   "source": [
    "def sortColors(nums):\n",
    "    nums.sort()\n",
    "    return"
   ]
  },
  {
   "cell_type": "code",
   "execution_count": 18,
   "metadata": {},
   "outputs": [],
   "source": [
    "def sortColors(nums):\n",
    "    l = len(nums)\n",
    "    \n",
    "    zero_index = 0\n",
    "    while(zero_index<l and nums[zero_index]==0): zero_index+=1\n",
    "    if zero_index==l: return\n",
    "    \n",
    "    two_index = l-1\n",
    "    while(two_index>=0 and nums[two_index]==2): two_index-=1\n",
    "    if two_index==-1: return\n",
    "    print(zero_index, two_index)\n",
    "    \n",
    "    i=zero_index\n",
    "    while(i<=two_index):\n",
    "        if nums[i]==0:\n",
    "            nums[i],nums[zero_index] = nums[zero_index], nums[i]\n",
    "            zero_index +=1\n",
    "        i+=1\n",
    "    \n",
    "    i=two_index\n",
    "    while(i>=zero_index):\n",
    "        if nums[i]==2:\n",
    "            nums[i],nums[two_index] = nums[two_index], nums[i]\n",
    "            two_index-=1\n",
    "        i-=1\n",
    "    print(nums)"
   ]
  },
  {
   "cell_type": "code",
   "execution_count": 19,
   "metadata": {},
   "outputs": [
    {
     "name": "stdout",
     "output_type": "stream",
     "text": [
      "0 5\n",
      "[0, 0, 1, 1, 2, 2]\n"
     ]
    }
   ],
   "source": [
    "sortColors([2,0,2,1,1,0])"
   ]
  },
  {
   "cell_type": "code",
   "execution_count": 20,
   "metadata": {},
   "outputs": [],
   "source": [
    "sortColors([])"
   ]
  },
  {
   "cell_type": "code",
   "execution_count": 21,
   "metadata": {},
   "outputs": [
    {
     "name": "stdout",
     "output_type": "stream",
     "text": [
      "0 0\n",
      "[1]\n"
     ]
    }
   ],
   "source": [
    "sortColors([1])"
   ]
  },
  {
   "cell_type": "code",
   "execution_count": 22,
   "metadata": {},
   "outputs": [
    {
     "name": "stdout",
     "output_type": "stream",
     "text": [
      "0 5\n",
      "[0, 0, 1, 1, 2, 2]\n"
     ]
    }
   ],
   "source": [
    "sortColors([2,2,0,0,1,1])"
   ]
  },
  {
   "cell_type": "code",
   "execution_count": 23,
   "metadata": {},
   "outputs": [],
   "source": [
    "sortColors([0,0,0])"
   ]
  },
  {
   "cell_type": "code",
   "execution_count": 24,
   "metadata": {},
   "outputs": [
    {
     "name": "stdout",
     "output_type": "stream",
     "text": [
      "0 2\n",
      "[1, 1, 1]\n"
     ]
    }
   ],
   "source": [
    "sortColors([1,1,1])"
   ]
  },
  {
   "cell_type": "code",
   "execution_count": null,
   "metadata": {},
   "outputs": [],
   "source": []
  }
 ],
 "metadata": {
  "kernelspec": {
   "display_name": "Python 3",
   "language": "python",
   "name": "python3"
  },
  "language_info": {
   "codemirror_mode": {
    "name": "ipython",
    "version": 3
   },
   "file_extension": ".py",
   "mimetype": "text/x-python",
   "name": "python",
   "nbconvert_exporter": "python",
   "pygments_lexer": "ipython3",
   "version": "3.6.6"
  }
 },
 "nbformat": 4,
 "nbformat_minor": 2
}
